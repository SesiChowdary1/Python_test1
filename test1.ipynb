{
 "cells": [
  {
   "cell_type": "code",
   "execution_count": 80,
   "id": "0cf5f359-08c3-45e3-9221-c4eb9c9fe540",
   "metadata": {},
   "outputs": [
    {
     "name": "stdout",
     "output_type": "stream",
     "text": [
      "Sales data has been updated and saved to 'sales_updated.csv'.\n"
     ]
    }
   ],
   "source": [
    "\n",
    "import csv\n",
    "import math\n",
    "\n",
    "# Open the original 'sales_24.csv' file\n",
    "with open('sales_24.csv', mode='r', newline='') as infile:\n",
    "    reader = csv.DictReader(infile)\n",
    "    \n",
    "    # Create a list to store the rows for the updated file\n",
    "    updated_rows = []\n",
    "\n",
    "    # Iterate through each row in the CSV\n",
    "    for row in reader:\n",
    "        # Check if the Amount is a valid number (ignoring empty values)\n",
    "        if row['Amount']:\n",
    "            try:\n",
    "                # Round down the amount to the nearest integer\n",
    "                row['Amount'] = str(math.floor(float(row['Amount'])))\n",
    "            except ValueError:\n",
    "                pass  # Skip if the Amount value is not convertible to float\n",
    "        updated_rows.append(row)\n",
    "\n",
    "# Write the modified rows to a new CSV file 'sales_updated.csv'\n",
    "with open('sales_updated.csv', mode='w', newline='') as outfile:\n",
    "    fieldnames = ['Date', 'Region', 'Product', 'Amount', 'Customer ID']  # Column names\n",
    "    writer = csv.DictWriter(outfile, fieldnames=fieldnames)\n",
    "\n",
    "    # Write the header\n",
    "    writer.writeheader()\n",
    "\n",
    "    # Write the updated rows\n",
    "    writer.writerows(updated_rows)\n",
    "\n",
    "print(\"Sales data has been updated and saved to 'sales_updated.csv'.\")\n",
    "\n"
   ]
  },
  {
   "cell_type": "code",
   "execution_count": null,
   "id": "4d0670a9-9015-4072-8a5b-ee6b7798b721",
   "metadata": {},
   "outputs": [],
   "source": []
  }
 ],
 "metadata": {
  "kernelspec": {
   "display_name": "Python 3 (ipykernel)",
   "language": "python",
   "name": "python3"
  },
  "language_info": {
   "codemirror_mode": {
    "name": "ipython",
    "version": 3
   },
   "file_extension": ".py",
   "mimetype": "text/x-python",
   "name": "python",
   "nbconvert_exporter": "python",
   "pygments_lexer": "ipython3",
   "version": "3.10.12"
  }
 },
 "nbformat": 4,
 "nbformat_minor": 5
}
